{
 "cells": [
  {
   "cell_type": "code",
   "execution_count": 13,
   "metadata": {},
   "outputs": [],
   "source": [
    "import torch\n",
    "import numpy as np\n",
    "import seaborn as sns"
   ]
  },
  {
   "cell_type": "code",
   "execution_count": 18,
   "metadata": {},
   "outputs": [],
   "source": [
    "import sklearn.metrics as M"
   ]
  },
  {
   "cell_type": "code",
   "execution_count": 2,
   "metadata": {},
   "outputs": [],
   "source": [
    "model = torch.load(\"../models/optimized_model.pth\")"
   ]
  },
  {
   "cell_type": "code",
   "execution_count": 3,
   "metadata": {},
   "outputs": [],
   "source": [
    "def nparams(model):\n",
    "    model_parameters = filter(lambda p: p.requires_grad, model.parameters())\n",
    "    params = sum([np.prod(p.size()) for p in model_parameters])\n",
    "    return params"
   ]
  },
  {
   "cell_type": "code",
   "execution_count": 68,
   "metadata": {},
   "outputs": [],
   "source": [
    "import os\n",
    "def getsize(filepath):\n",
    "    return f\"{os.path.getsize(filepath) / (1024 * 1024.0):.4f} MB\""
   ]
  },
  {
   "cell_type": "code",
   "execution_count": 74,
   "metadata": {},
   "outputs": [
    {
     "data": {
      "text/plain": [
       "'28.4763 MB'"
      ]
     },
     "execution_count": 74,
     "metadata": {},
     "output_type": "execute_result"
    }
   ],
   "source": [
    "getsize('distil.pth')"
   ]
  },
  {
   "cell_type": "code",
   "execution_count": 5,
   "metadata": {},
   "outputs": [],
   "source": [
    "from model import SentimentClassifier\n",
    "\n",
    "from data_utils import tokenization\n",
    "from data_utils.preprocess import process_tweet\n",
    "\n",
    "torch.nn.functional.tanh = torch.tanh\n",
    "\n",
    "thresholds = {'anger': 0.55, 'disgust': 0.34500000000000003, 'fear': 0.8150000000000001, 'happiness': 0.17, 'sadness': 0.37, 'surprise': 0.295}\n",
    "\n",
    "def eval_fn(model, tokenizer, preprocess_fn, text):\n",
    "    ids = tokenizer.EncodeAsIds(text, preprocess_fn).tokenization\n",
    "    length = len(ids)\n",
    "    \n",
    "    input_text = torch.from_numpy(np.array(ids, dtype=np.int64))\n",
    "    input_text = torch.unsqueeze(input_text, -1)\n",
    "    \n",
    "    input_tsteps = torch.from_numpy(np.array(length-1, dtype=np.int64))\n",
    "    input_tsteps = torch.unsqueeze(input_tsteps, -1)\n",
    "    \n",
    "    with torch.no_grad():\n",
    "        class_out = model(input_text, input_tsteps)\n",
    "    classes = ['anger', 'no-print', 'disgust', 'fear', 'happiness', 'sadness', 'surprise', 'no-print']\n",
    "    result = []\n",
    "    for i, prob in enumerate(class_out[0][0]):\n",
    "        if classes[i] == 'no-print':\n",
    "            continue\n",
    "        result.append(prob.item() > thresholds[classes[i]])\n",
    "        \n",
    "    return np.array(result)"
   ]
  },
  {
   "cell_type": "code",
   "execution_count": 6,
   "metadata": {},
   "outputs": [],
   "source": [
    "tokenizer = tokenization.SentencePieceTokenizer(model_path=\"../models/ama_32k_tokenizer.model\")"
   ]
  },
  {
   "cell_type": "code",
   "execution_count": 7,
   "metadata": {},
   "outputs": [],
   "source": [
    "from tqdm import tqdm"
   ]
  },
  {
   "cell_type": "code",
   "execution_count": 8,
   "metadata": {},
   "outputs": [],
   "source": [
    "import pandas as pd"
   ]
  },
  {
   "cell_type": "code",
   "execution_count": 9,
   "metadata": {},
   "outputs": [],
   "source": [
    "test = pd.read_csv(\"../data/test.csv\")"
   ]
  },
  {
   "cell_type": "code",
   "execution_count": 10,
   "metadata": {},
   "outputs": [],
   "source": [
    "X = test.Tweet.values"
   ]
  },
  {
   "cell_type": "code",
   "execution_count": 11,
   "metadata": {},
   "outputs": [
    {
     "data": {
      "text/html": [
       "<div>\n",
       "<style scoped>\n",
       "    .dataframe tbody tr th:only-of-type {\n",
       "        vertical-align: middle;\n",
       "    }\n",
       "\n",
       "    .dataframe tbody tr th {\n",
       "        vertical-align: top;\n",
       "    }\n",
       "\n",
       "    .dataframe thead th {\n",
       "        text-align: right;\n",
       "    }\n",
       "</style>\n",
       "<table border=\"1\" class=\"dataframe\">\n",
       "  <thead>\n",
       "    <tr style=\"text-align: right;\">\n",
       "      <th></th>\n",
       "      <th>Tweet</th>\n",
       "      <th>anger</th>\n",
       "      <th>disgust</th>\n",
       "      <th>fear</th>\n",
       "      <th>happiness</th>\n",
       "      <th>sadness</th>\n",
       "      <th>surprise</th>\n",
       "    </tr>\n",
       "  </thead>\n",
       "  <tbody>\n",
       "    <tr>\n",
       "      <th>0</th>\n",
       "      <td>@Adnan__786__ @AsYouNotWish Dont worry Indian ...</td>\n",
       "      <td>1</td>\n",
       "      <td>0</td>\n",
       "      <td>0</td>\n",
       "      <td>0</td>\n",
       "      <td>0</td>\n",
       "      <td>0</td>\n",
       "    </tr>\n",
       "    <tr>\n",
       "      <th>1</th>\n",
       "      <td>Academy of Sciences, eschews the normally sobe...</td>\n",
       "      <td>0</td>\n",
       "      <td>1</td>\n",
       "      <td>0</td>\n",
       "      <td>0</td>\n",
       "      <td>0</td>\n",
       "      <td>0</td>\n",
       "    </tr>\n",
       "    <tr>\n",
       "      <th>2</th>\n",
       "      <td>I blew that opportunity -__- #mad</td>\n",
       "      <td>1</td>\n",
       "      <td>1</td>\n",
       "      <td>0</td>\n",
       "      <td>0</td>\n",
       "      <td>1</td>\n",
       "      <td>0</td>\n",
       "    </tr>\n",
       "    <tr>\n",
       "      <th>3</th>\n",
       "      <td>This time in 2 weeks I will be 30... 😥</td>\n",
       "      <td>0</td>\n",
       "      <td>0</td>\n",
       "      <td>0</td>\n",
       "      <td>1</td>\n",
       "      <td>1</td>\n",
       "      <td>0</td>\n",
       "    </tr>\n",
       "    <tr>\n",
       "      <th>4</th>\n",
       "      <td>#Deppression is real. Partners w/ #depressed p...</td>\n",
       "      <td>0</td>\n",
       "      <td>0</td>\n",
       "      <td>1</td>\n",
       "      <td>0</td>\n",
       "      <td>1</td>\n",
       "      <td>0</td>\n",
       "    </tr>\n",
       "  </tbody>\n",
       "</table>\n",
       "</div>"
      ],
      "text/plain": [
       "                                               Tweet  anger  disgust  fear  \\\n",
       "0  @Adnan__786__ @AsYouNotWish Dont worry Indian ...      1        0     0   \n",
       "1  Academy of Sciences, eschews the normally sobe...      0        1     0   \n",
       "2                  I blew that opportunity -__- #mad      1        1     0   \n",
       "3             This time in 2 weeks I will be 30... 😥      0        0     0   \n",
       "4  #Deppression is real. Partners w/ #depressed p...      0        0     1   \n",
       "\n",
       "   happiness  sadness  surprise  \n",
       "0          0        0         0  \n",
       "1          0        0         0  \n",
       "2          0        1         0  \n",
       "3          1        1         0  \n",
       "4          0        1         0  "
      ]
     },
     "execution_count": 11,
     "metadata": {},
     "output_type": "execute_result"
    }
   ],
   "source": [
    "test.head()"
   ]
  },
  {
   "cell_type": "code",
   "execution_count": 14,
   "metadata": {},
   "outputs": [],
   "source": [
    "y = test.iloc[:, 1:].values"
   ]
  },
  {
   "cell_type": "code",
   "execution_count": 37,
   "metadata": {},
   "outputs": [],
   "source": [
    "def evaluate_model(model, tokenizer=tokenizer, texts=X, y_true=y, n_splits=25):\n",
    "    y_pred = [eval_fn(model, tokenizer, preprocess_fn=process_tweet, text=txt) for txt in tqdm(X)]\n",
    "    y_pred = np.stack(y_pred)\n",
    "    f1_macros  = []\n",
    "    f1_micros  = []\n",
    "    accuracies = []\n",
    "    for true, pred in zip(np.array_split(y_true, n_splits), np.array_split(y_pred, n_splits)):\n",
    "        f1_macros.append(M.f1_score(true, pred, average='macro'))\n",
    "        f1_micros.append(M.f1_score(true, pred, average='micro'))\n",
    "        accuracies.append(M.accuracy_score(true, pred))\n",
    "    \n",
    "    return np.array(f1_macros), np.array(f1_micros), np.array(accuracies)"
   ]
  },
  {
   "cell_type": "code",
   "execution_count": 38,
   "metadata": {},
   "outputs": [
    {
     "name": "stderr",
     "output_type": "stream",
     "text": [
      "100%|██████████| 3259/3259 [02:44<00:00, 19.87it/s]\n"
     ]
    }
   ],
   "source": [
    "macro, micro, acc = evaluate_model(model)"
   ]
  },
  {
   "cell_type": "code",
   "execution_count": 26,
   "metadata": {},
   "outputs": [],
   "source": [
    "def present(macro, micro, acc):\n",
    "    print(f\"MacroF1:  {macro.mean():.4f} +- {macro.std():.4f}\")\n",
    "    print(f\"MicroF1:  {micro.mean():.4f} +- {micro.std():.4f}\")\n",
    "    print(f\"Accuracy: {acc.mean():.4f} +- {acc.std():.4f}\")"
   ]
  },
  {
   "cell_type": "code",
   "execution_count": 47,
   "metadata": {},
   "outputs": [
    {
     "name": "stdout",
     "output_type": "stream",
     "text": [
      "MacroF1:  0.6630 +- 0.0295\n",
      "MicroF1:  0.7434 +- 0.0206\n",
      "Accuracy: 0.4554 +- 0.0444\n"
     ]
    }
   ],
   "source": [
    "present(macro, micro, acc)"
   ]
  },
  {
   "cell_type": "code",
   "execution_count": 32,
   "metadata": {},
   "outputs": [],
   "source": [
    "import torch.quantization as Q\n",
    "import torch.nn as nn"
   ]
  },
  {
   "cell_type": "code",
   "execution_count": 33,
   "metadata": {},
   "outputs": [],
   "source": [
    "qmodel = Q.quantize_dynamic(model, {nn.Linear}, dtype=torch.qint8)"
   ]
  },
  {
   "cell_type": "code",
   "execution_count": 39,
   "metadata": {},
   "outputs": [
    {
     "name": "stderr",
     "output_type": "stream",
     "text": [
      "100%|██████████| 3259/3259 [04:55<00:00, 11.02it/s]\n"
     ]
    }
   ],
   "source": [
    "qmacro, qmicro, qacc = evaluate_model(qmodel)"
   ]
  },
  {
   "cell_type": "code",
   "execution_count": 46,
   "metadata": {},
   "outputs": [
    {
     "name": "stdout",
     "output_type": "stream",
     "text": [
      "MacroF1:  0.6637 +- 0.0290\n",
      "MicroF1:  0.7437 +- 0.0197\n",
      "Accuracy: 0.4548 +- 0.0443\n"
     ]
    }
   ],
   "source": [
    "present(qmacro, qmicro, qacc)"
   ]
  },
  {
   "cell_type": "code",
   "execution_count": 49,
   "metadata": {},
   "outputs": [],
   "source": [
    "import matplotlib.pylab as plt"
   ]
  },
  {
   "cell_type": "code",
   "execution_count": 66,
   "metadata": {},
   "outputs": [],
   "source": [
    "def plot_two(one, two):\n",
    "    _ = plt.figure(figsize=(15.0, 15.0))\n",
    "    sns.kdeplot(one, color='red')\n",
    "    sns.kdeplot(two, color='blue')"
   ]
  },
  {
   "cell_type": "code",
   "execution_count": 67,
   "metadata": {},
   "outputs": [
    {
     "data": {
      "image/png": "[encoded data removed]",
      "text/plain": [
       "<Figure size 1080x1080 with 1 Axes>"
      ]
     },
     "metadata": {
      "needs_background": "light"
     },
     "output_type": "display_data"
    }
   ],
   "source": [
    "plot_two(acc, qacc)"
   ]
  },
  {
   "cell_type": "code",
   "execution_count": 36,
   "metadata": {},
   "outputs": [],
   "source": [
    "from scipy.stats import wilcoxon"
   ]
  },
  {
   "cell_type": "code",
   "execution_count": 40,
   "metadata": {},
   "outputs": [
    {
     "data": {
      "text/plain": [
       "WilcoxonResult(statistic=95.0, pvalue=0.30646485459506156)"
      ]
     },
     "execution_count": 40,
     "metadata": {},
     "output_type": "execute_result"
    }
   ],
   "source": [
    "wilcoxon(macro, qmacro)"
   ]
  },
  {
   "cell_type": "code",
   "execution_count": 41,
   "metadata": {},
   "outputs": [
    {
     "data": {
      "text/plain": [
       "WilcoxonResult(statistic=76.0, pvalue=0.44450890263539566)"
      ]
     },
     "execution_count": 41,
     "metadata": {},
     "output_type": "execute_result"
    }
   ],
   "source": [
    "wilcoxon(micro, qmicro)"
   ]
  },
  {
   "cell_type": "code",
   "execution_count": 44,
   "metadata": {},
   "outputs": [
    {
     "name": "stderr",
     "output_type": "stream",
     "text": [
      "/usr/local/lib/python3.6/dist-packages/scipy/stats/morestats.py:2863: UserWarning: Sample size too small for normal approximation.\n",
      "  warnings.warn(\"Sample size too small for normal approximation.\")\n"
     ]
    },
    {
     "data": {
      "text/plain": [
       "WilcoxonResult(statistic=15.0, pvalue=0.37215383020417214)"
      ]
     },
     "execution_count": 44,
     "metadata": {},
     "output_type": "execute_result"
    }
   ],
   "source": [
    "wilcoxon(acc, qacc)"
   ]
  },
  {
   "cell_type": "code",
   "execution_count": null,
   "metadata": {},
   "outputs": [],
   "source": []
  }
 ],
 "metadata": {
  "kernelspec": {
   "display_name": "Python 3",
   "language": "python",
   "name": "python3"
  },
  "language_info": {
   "codemirror_mode": {
    "name": "ipython",
    "version": 3
   },
   "file_extension": ".py",
   "mimetype": "text/x-python",
   "name": "python",
   "nbconvert_exporter": "python",
   "pygments_lexer": "ipython3",
   "version": "3.6.8"
  }
 },
 "nbformat": 4,
 "nbformat_minor": 4
}
